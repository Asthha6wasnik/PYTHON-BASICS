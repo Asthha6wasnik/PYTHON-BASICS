{
  "nbformat": 4,
  "nbformat_minor": 0,
  "metadata": {
    "colab": {
      "provenance": []
    },
    "kernelspec": {
      "name": "python3",
      "display_name": "Python 3"
    },
    "language_info": {
      "name": "python"
    }
  },
  "cells": [
    {
      "cell_type": "code",
      "execution_count": null,
      "metadata": {
        "id": "mGXh5G2xguMK"
      },
      "outputs": [],
      "source": []
    },
    {
      "cell_type": "markdown",
      "source": [],
      "metadata": {
        "id": "zdO_8qA9nWwK"
      }
    },
    {
      "cell_type": "markdown",
      "source": [
        "# THEORY QUESTIONS"
      ],
      "metadata": {
        "id": "zYAhavvFH8rN"
      }
    },
    {
      "cell_type": "markdown",
      "source": [
        "1.**WHAT IS PYTHON AND WHY IT IS POPULAR**?\n",
        "ANS. PYTHON IS A PROGRAMMING LANGAUAGE.IT IS WIDELY USED IN DATA INDUSTRIES BEACAUSE ITS USED TO BUILD WEBSITE AND SOFTWARE TO ANALYZIE THE DATA.\n",
        "IT IS THE VERY EASY LANGUAGE TO UNDERSTAND THE PROGRMMES.\n",
        "IT HAS 137000 LIBARARIES TO UNDERSTATING MACHINE LEARNING.\n",
        "PYTHON IS USED BY 500 FORTUNE COMPANIES.\n",
        "\n",
        "PYTHON IS POPULAR REASON ARE AS FOLLOWS:-\n",
        "1.FRONTEND\n",
        "2.BACKEND\n",
        "3.DATA ANALYSIS\n",
        "4.IMAGE PROCESSING\n",
        "5.AUTOMATION\n",
        "6.VERSITALITY\n",
        "ETC.\n",
        "\n",
        "2.**WHAT IS THE INTERPRETER IN PYTHON?**\n",
        "ANS. A PYTHON INTERPRETER IS A PROGRAMME THAT CONVERTS HIGH LEVEL PROGRAMME INTO MACHINE LEARNING.\n",
        "IT IS INTERMIDIATE LANGUAGE THAT CAN EASILY UNDERSTAND THE PROGRAMME.\n",
        "\n",
        "3.**WHAT ARE THE PREDEFINED KEYWORDS IN PYTHON?**\n",
        "ANS. KEYWORDS ARE PREDEFINED WORDS THAT HOLD A SPECIAL MEANING AND HAVE A SPECIFIC PURPOSE IN PYTHON PROGRAMMING.\n",
        "FOR EXAMPLE\n",
        "\n",
        "\n",
        "\n",
        "\n",
        "\n",
        "\n",
        "\n",
        "\n",
        "---\n",
        "\n"
      ],
      "metadata": {
        "id": "40DM1-RqgvHT"
      }
    },
    {
      "cell_type": "code",
      "source": [
        "help('keywords')"
      ],
      "metadata": {
        "colab": {
          "base_uri": "https://localhost:8080/"
        },
        "id": "f11dsOHUlDBO",
        "outputId": "59fbd804-2f39-422f-e458-d4a9f621fb38"
      },
      "execution_count": null,
      "outputs": [
        {
          "output_type": "stream",
          "name": "stdout",
          "text": [
            "\n",
            "Here is a list of the Python keywords.  Enter any keyword to get more help.\n",
            "\n",
            "False               class               from                or\n",
            "None                continue            global              pass\n",
            "True                def                 if                  raise\n",
            "and                 del                 import              return\n",
            "as                  elif                in                  try\n",
            "assert              else                is                  while\n",
            "async               except              lambda              with\n",
            "await               finally             nonlocal            yield\n",
            "break               for                 not                 \n",
            "\n"
          ]
        }
      ]
    },
    {
      "cell_type": "markdown",
      "source": [
        "4.**CAN KEYWORDS IS USED AS A VARIVALE?**\n",
        "ANS.NO, THE KEYWORDS CANNOT BE USED AS A VARIABLE.\n",
        "WHEN WE RUN A PROGRMME PUT VARIABLE IN PLACE OF KEYWORDS IT WILL\n",
        "TROUGH AN ERROR.\n",
        "PYTHON KEYWORDS ARE RESERVED WORDS THAT DEFINE THE SYNTAX AND STRUCTURE OF PYTHON.\n",
        "\n",
        "5.**WHAT ARE THE MUTABILITY IN PYTHON?**\n",
        "ANS. THE MUTABILITY IS TO CAHNGE AND OBJECT WHEN IT IS CREATED\n",
        "ALL AND ALL THE MUTABILITY IS CHANGE THAT WE CAN DON WHILE PROGRAMMING\n",
        "EXAMPLES OF MUTABILITY\n",
        "1.LIST []\n",
        "2.DIC{}.\n",
        "\n",
        "6.**WHY ARE THE LIST MUTABLE BUT TUPLES ARE IMMUTABLE?**\n",
        "ANS. **LIST**\n",
        "LIST IS ACTAULLY A CONTAINER WHERE YOU CAN STORE EVERY VALUE.\n",
        "THEY CAN BE MODIFIED AND CHANGE AFTER CREATED.\n",
        "LIST[1,2,3.3,\"ASTHHA\",3+2I]\n",
        "THIS VALUE CAN BE CHANGE THAT WHY LIST IS MULTABLE\n",
        "THIS VALUES ARE {STRING,INTEGERS,FLOAT,COMPLEX}.\n",
        "**TUPLE**\n",
        "ONCE A TUPLE IS CREATED WE CANNOT CAHNGE THE VALUE BECAUSE IT IS FIXED\n",
        "IN TUPLES WE USE PARANTHESIS\n",
        "WE CANNOT CHANGE (ADDHAR CARD NO,EMPLOYEE ID,ETC,)\n",
        "TUPLE IS ALSO HETEROGENOUS. WE CAN STORE ANYTHING IN TUPLE ASWELL\n",
        "FOR EXAMPLE (INT,STRING,FLOAT,COMPLEX)\n",
        "\n",
        "7.**WHAT ARE THE DIFFERENCE BETWEEN\"==\" AND \"IS\" OPERATOR IN PYTHON?**\n",
        "ANS.THE\"==\" IS A **OPERATOR **\n",
        "IT IS OPERATOR AND IT IS USED TO COMPARE THE **EQUALITY OF OBJECTS.**\n",
        "THE OPERATOR IS USED TO CHECK THE TWO DIFFERENT VARIABLE IN SAME OBJECT IN ONE PROFRAMME THAT WHY IT IS ALSO CALLED AS COMARATIVE OPERATER.\n",
        "\"IS\" IS A **OPERATER**\n",
        "THE IS OPERATOR IN PYTHON COMPARES THE MEMORY **LOCATION OF TWO OBJECTS **\n",
        "\n",
        "8.**WHAT ARE THE LOGICAL OPERATERS?**\n",
        "ANS. THERE ARE 3 TYPES LOGICAL OPERATES\n",
        "1.**AND** = OPERATER RETURNS TRUE WHEN BOTH OPERATES ARE TRUE\n",
        "FOR EXAMPLE T= TRUE DENOTES 1,F= FALSE DENOTES 0\n",
        "T AND T=T\n",
        "T AND F=F\n",
        "F AND T=F\n",
        "F AND F=F\n",
        "**OR**= IT RETURNS TRUE EITHER VALUE ARE TRUE\n",
        "FOR EXAMPLE\n",
        "T OR T=T\n",
        "T OR F=T\n",
        "F OR T=T\n",
        "F OR F=F\n",
        "**NOT**\n",
        "IF SOMETHING IS TRUE NOT TURNS TO FALSE.\n",
        "\n",
        "9.**WHAT IS TYPE CASTING IN PYTHON?**\n",
        "ANS. THE PROCESS OF CHANGING THE DATA TYPE OF A VALUE OR OBJECT IS KNOWN AS TYPE CASTING OR TYPE CONVERSION.\n",
        "WE USE TYPE CASTING WHILE EXECUTION USING OPERATOES IF THERE IS A MISMATCH.\n",
        "\n",
        "10.**WHAT ARE THE DIFFERENCE BETWEEN IMPLICIT AND EXPLICIT TYPE CASTING?**\n",
        "ANS.**IMPLICIT TYPE CASTING ** =IS AUTOMATICALLY CONVERTS A SMALLER TYPE TO A LARGER SIZE TYPE.\n",
        "**EXPLICIT TYPE CASTING **= IS MANUAL CONVERSION OF LARGER TYPE TO SMALLER TYPE SIZE USING INBUIT FUNCTION.\n",
        "\n",
        "11.**WHAT IS THE PURPOSE OF CONDITIONAL STATEMENT IN PYTHON?**\n",
        "ANS.CONTIONAL STATEMENT HELPS YOU CODE DECISION BASED ON SOME PRE CONDITIONS\n",
        "# IF\n",
        "# IF ELSE\n",
        "# ELIF\n",
        "# NESTED IF ELSE\n",
        "IF= CHECKS THE CONDITION AND EXECUTE IF THE CINDITION IS TRUE.\n",
        "IF ELSE= USE TO SEGREGATE TWO DIFFERENT THING.\n",
        "ELSE=ELSE WE WILL COMMENT AND THAT WILL EXECUTE.\n",
        "\n",
        "12.**HOW DOES THE IF ELSE STATMENT WORKS?**\n",
        "ANS. THE IF ELSE CONDITION IS USED TO EXCUTE BOTH TRUE AND FALSE STATMENT.\n",
        "\n",
        "13.**WHAT IS THE DIFFFERENCE BETWEEN FOR LOOP AND WHILE LOOP?**\n",
        "ANS.**WHILE LOOP** =WHILE LOOP REPEADETLY EXECUTE A BLOCK OF CODE UNTIL A CONDITION IS MET.\n",
        "**FOR LOOP** = FOR LOOP ITERATE OVER A SEQUENCE OF ELEMENT WE CAN ALSO DO STRING TEST FOR IT.\n",
        "\n",
        "14.**DESCRIBE A SCENARIO WHERE THE WHILE LOOP IS MORE SUITABLE THAN FOR LOOP?**\n",
        "ANS. WHILE LOOP IS IDEAL FOR SITUATION WHERE THE NUMBER THE NUMBER OF ITERATION .\n",
        "A WHILE LOOP RUNS ATLEAST ONCE AND THAN CONTINUES IF THE CONDITION IS TRUE\n",
        "THAT Y WHILE LOOP IS MORE PREFERABLE THAN FOR LOOP.\n",
        "\n",
        "   \n",
        "\n",
        "\n"
      ],
      "metadata": {
        "id": "i4bJunRkmgaE"
      }
    },
    {
      "cell_type": "markdown",
      "source": [
        "# PRACTICAL QUESTIONS\n",
        "\n"
      ],
      "metadata": {
        "id": "ggz-zcKPHzK0"
      }
    },
    {
      "cell_type": "markdown",
      "source": [
        "1.Write a python programme print\" hello world!\""
      ],
      "metadata": {
        "id": "TS9j9cfpINI9"
      }
    },
    {
      "cell_type": "code",
      "source": [
        "print(\"hello world!\")\n",
        "\n"
      ],
      "metadata": {
        "colab": {
          "base_uri": "https://localhost:8080/"
        },
        "id": "bK35k3moHyWV",
        "outputId": "70935c48-9146-496d-d99f-ba06e5eaba68"
      },
      "execution_count": null,
      "outputs": [
        {
          "output_type": "stream",
          "name": "stdout",
          "text": [
            "hello world!\n"
          ]
        }
      ]
    },
    {
      "cell_type": "markdown",
      "source": [
        "2.Write a python programme that displays your name and age?\n"
      ],
      "metadata": {
        "id": "Fwf65iUQLf86"
      }
    },
    {
      "cell_type": "code",
      "source": [
        "name = \"Asthha\"\n",
        "age = 21\n",
        "print(name)"
      ],
      "metadata": {
        "colab": {
          "base_uri": "https://localhost:8080/"
        },
        "id": "xxEl6Gz8MjtX",
        "outputId": "ce31efe1-2e26-4578-d0a9-04fd1d6c2024"
      },
      "execution_count": null,
      "outputs": [
        {
          "output_type": "stream",
          "name": "stdout",
          "text": [
            "Asthha\n"
          ]
        }
      ]
    },
    {
      "cell_type": "code",
      "source": [
        "print(age)"
      ],
      "metadata": {
        "colab": {
          "base_uri": "https://localhost:8080/"
        },
        "id": "7GP8AwPYM6-n",
        "outputId": "8283e21f-3167-44f9-9afd-46e2ee17e5a5"
      },
      "execution_count": null,
      "outputs": [
        {
          "output_type": "stream",
          "name": "stdout",
          "text": [
            "21\n"
          ]
        }
      ]
    },
    {
      "cell_type": "markdown",
      "source": [
        "3.Write a code to all defined predefined keywords using the keyword library?\n"
      ],
      "metadata": {
        "id": "bLhX0z2qNIOg"
      }
    },
    {
      "cell_type": "code",
      "source": [
        "help('keywords')"
      ],
      "metadata": {
        "colab": {
          "base_uri": "https://localhost:8080/"
        },
        "id": "QQBPrB-lNcYH",
        "outputId": "0e59ec33-50ef-4595-a3de-4f097b8cb834"
      },
      "execution_count": null,
      "outputs": [
        {
          "output_type": "stream",
          "name": "stdout",
          "text": [
            "\n",
            "Here is a list of the Python keywords.  Enter any keyword to get more help.\n",
            "\n",
            "False               class               from                or\n",
            "None                continue            global              pass\n",
            "True                def                 if                  raise\n",
            "and                 del                 import              return\n",
            "as                  elif                in                  try\n",
            "assert              else                is                  while\n",
            "async               except              lambda              with\n",
            "await               finally             nonlocal            yield\n",
            "break               for                 not                 \n",
            "\n"
          ]
        }
      ]
    },
    {
      "cell_type": "markdown",
      "source": [
        "4.:Write a program that checks if a given word is a Python keyword\n",
        "\n"
      ],
      "metadata": {
        "id": "xoBff1aVa0DZ"
      }
    },
    {
      "cell_type": "code",
      "source": [
        "number = 42\n",
        "if number % 2 == 0:\n",
        "    print(\"the number is even\")\n"
      ],
      "metadata": {
        "colab": {
          "base_uri": "https://localhost:8080/"
        },
        "id": "NwVWa3sqcNHk",
        "outputId": "90723183-1a3e-41c4-d4dd-6909f38aeae5"
      },
      "execution_count": null,
      "outputs": [
        {
          "output_type": "stream",
          "name": "stdout",
          "text": [
            "the number is even\n"
          ]
        }
      ]
    },
    {
      "cell_type": "markdown",
      "source": [
        "5.Create a list and tuple in Python, and demonstrate how attempting to change an element works differently for each\n"
      ],
      "metadata": {
        "id": "xuTj-FXrdp8S"
      }
    },
    {
      "cell_type": "code",
      "source": [
        "my_list = [1, 2, 3, 4, 5]\n",
        "print(my_list)"
      ],
      "metadata": {
        "colab": {
          "base_uri": "https://localhost:8080/"
        },
        "id": "6DwIJiv4jENC",
        "outputId": "50fa1e29-2110-464a-cc0b-5f1522ea5107"
      },
      "execution_count": null,
      "outputs": [
        {
          "output_type": "stream",
          "name": "stdout",
          "text": [
            "[1, 2, 3, 4, 5]\n"
          ]
        }
      ]
    },
    {
      "cell_type": "code",
      "source": [
        "my_list.append(6)\n",
        "print(my_list)"
      ],
      "metadata": {
        "colab": {
          "base_uri": "https://localhost:8080/"
        },
        "id": "6cUXWS7LjfCt",
        "outputId": "1e6df0dc-5c54-4b6d-809e-900a7aae27ef"
      },
      "execution_count": null,
      "outputs": [
        {
          "output_type": "stream",
          "name": "stdout",
          "text": [
            "[1, 2, 3, 4, 5, 6]\n"
          ]
        }
      ]
    },
    {
      "cell_type": "code",
      "source": [
        "# list is mutable means is can be change .\n"
      ],
      "metadata": {
        "id": "b09lk9_Sjppm"
      },
      "execution_count": null,
      "outputs": []
    },
    {
      "cell_type": "code",
      "source": [
        "my_tuple = (1, 2, 3, 4, 5)\n",
        "print(my_tuple)"
      ],
      "metadata": {
        "colab": {
          "base_uri": "https://localhost:8080/"
        },
        "id": "OcwP-qulkFvn",
        "outputId": "58cad2fa-81d5-443b-eaf6-00f8ff144eec"
      },
      "execution_count": null,
      "outputs": [
        {
          "output_type": "stream",
          "name": "stdout",
          "text": [
            "(1, 2, 3, 4, 5)\n"
          ]
        }
      ]
    },
    {
      "cell_type": "code",
      "source": [
        "# this will not change able if we append or remove it.it will through an error\n"
      ],
      "metadata": {
        "id": "LwnwbhnSlm0a"
      },
      "execution_count": null,
      "outputs": []
    },
    {
      "cell_type": "markdown",
      "source": [
        "6. Write a function to demonstrate the behavior of mutable and immutable arguments0\n"
      ],
      "metadata": {
        "id": "4VyuPd2gl3Xf"
      }
    },
    {
      "cell_type": "code",
      "source": [
        "rest_menu = {\"paneer_kofta\":480 , \"chicken_handi\":590}"
      ],
      "metadata": {
        "id": "IFRfFeFFmGaU"
      },
      "execution_count": null,
      "outputs": []
    },
    {
      "cell_type": "code",
      "source": [
        "print(rest_menu)"
      ],
      "metadata": {
        "colab": {
          "base_uri": "https://localhost:8080/"
        },
        "id": "bcpvmbH-pNFh",
        "outputId": "30b75b78-21d0-4721-c553-544c1275f812"
      },
      "execution_count": null,
      "outputs": [
        {
          "output_type": "stream",
          "name": "stdout",
          "text": [
            "{'paneer_kofta': 480, 'chicken_handi': 590}\n"
          ]
        }
      ]
    },
    {
      "cell_type": "code",
      "source": [
        "# changing the value of paneer kofta\n",
        "rest_menu[\"paneer_kofta\"] = 500"
      ],
      "metadata": {
        "id": "zkTrAXg9pUqR"
      },
      "execution_count": null,
      "outputs": []
    },
    {
      "cell_type": "code",
      "source": [
        "print(rest_menu)"
      ],
      "metadata": {
        "colab": {
          "base_uri": "https://localhost:8080/"
        },
        "id": "I5E31KUhpwf5",
        "outputId": "b40f16bb-63d9-46f5-bcab-0c4e7dfcd0d4"
      },
      "execution_count": null,
      "outputs": [
        {
          "output_type": "stream",
          "name": "stdout",
          "text": [
            "{'paneer_kofta': 500, 'chicken_handi': 590}\n"
          ]
        }
      ]
    },
    {
      "cell_type": "code",
      "source": [
        "# price of panner kofta has been changed into 500\n"
      ],
      "metadata": {
        "id": "LknE8TtNp023"
      },
      "execution_count": null,
      "outputs": []
    },
    {
      "cell_type": "code",
      "source": [
        "s = \"asthha\"\n",
        "type(s)"
      ],
      "metadata": {
        "colab": {
          "base_uri": "https://localhost:8080/"
        },
        "id": "AvopFVmfqDnk",
        "outputId": "02fd23e2-cda9-422a-dc76-1a8f1ea455db"
      },
      "execution_count": null,
      "outputs": [
        {
          "output_type": "execute_result",
          "data": {
            "text/plain": [
              "str"
            ]
          },
          "metadata": {},
          "execution_count": 27
        }
      ]
    },
    {
      "cell_type": "code",
      "source": [
        "for i in s:\n",
        "  print(i)"
      ],
      "metadata": {
        "colab": {
          "base_uri": "https://localhost:8080/"
        },
        "id": "YJmnXXxsqSWo",
        "outputId": "0f350f48-cbc9-49f2-dc54-173671f1d783"
      },
      "execution_count": null,
      "outputs": [
        {
          "output_type": "stream",
          "name": "stdout",
          "text": [
            "a\n",
            "s\n",
            "t\n",
            "h\n",
            "h\n",
            "a\n"
          ]
        }
      ]
    },
    {
      "cell_type": "code",
      "source": [
        "# this is the behaviour of mutable and immutable arguments"
      ],
      "metadata": {
        "id": "caPFUiYrqcTG"
      },
      "execution_count": null,
      "outputs": []
    },
    {
      "cell_type": "markdown",
      "source": [
        "7. Write a program to demonstrate the use of logical operators\n",
        "\n",
        "\n"
      ],
      "metadata": {
        "id": "_jmCfO0Vqq5p"
      }
    },
    {
      "cell_type": "code",
      "source": [
        "a = 5\n",
        "b = 6\n",
        "print((a > 2 and b >= 6))"
      ],
      "metadata": {
        "colab": {
          "base_uri": "https://localhost:8080/"
        },
        "id": "phZqXKobq4Ca",
        "outputId": "eabb4677-5711-41c0-a5ae-048275f0a498"
      },
      "execution_count": null,
      "outputs": [
        {
          "output_type": "stream",
          "name": "stdout",
          "text": [
            "True\n"
          ]
        }
      ]
    },
    {
      "cell_type": "code",
      "source": [
        "# evaluate multiple condotions and return to true or false\n",
        "a = 5\n",
        "b = 6\n",
        "print((a < 2 or b >= 6))"
      ],
      "metadata": {
        "colab": {
          "base_uri": "https://localhost:8080/"
        },
        "id": "5rxWvq5YtAGm",
        "outputId": "95f17144-3e80-4181-8910-746578871660"
      },
      "execution_count": null,
      "outputs": [
        {
          "output_type": "stream",
          "name": "stdout",
          "text": [
            "True\n"
          ]
        }
      ]
    },
    {
      "cell_type": "code",
      "source": [
        "# or operater\n"
      ],
      "metadata": {
        "id": "Cr8pDuJUt8-4"
      },
      "execution_count": null,
      "outputs": []
    },
    {
      "cell_type": "markdown",
      "source": [
        "8.Write a Python program to convert user input from string to integer, float, and boolean types\n"
      ],
      "metadata": {
        "id": "-1kea9KOuF8z"
      }
    },
    {
      "cell_type": "code",
      "source": [
        "a = \"3\"\n",
        "type(a)"
      ],
      "metadata": {
        "colab": {
          "base_uri": "https://localhost:8080/"
        },
        "id": "Rt8qIg7Euvh8",
        "outputId": "eb4f182f-b5ce-4d8b-dd45-02cd5ebf7ca1"
      },
      "execution_count": null,
      "outputs": [
        {
          "output_type": "execute_result",
          "data": {
            "text/plain": [
              "str"
            ]
          },
          "metadata": {},
          "execution_count": 34
        }
      ]
    },
    {
      "cell_type": "code",
      "source": [
        "int(a) # str to integer."
      ],
      "metadata": {
        "colab": {
          "base_uri": "https://localhost:8080/"
        },
        "id": "mT-qiz2VutHe",
        "outputId": "a86406c8-c97e-44e5-e4c1-08927a6b4115"
      },
      "execution_count": null,
      "outputs": [
        {
          "output_type": "execute_result",
          "data": {
            "text/plain": [
              "3"
            ]
          },
          "metadata": {},
          "execution_count": 33
        }
      ]
    },
    {
      "cell_type": "code",
      "source": [
        "a = \"2.3\"\n",
        "type(a)"
      ],
      "metadata": {
        "colab": {
          "base_uri": "https://localhost:8080/"
        },
        "id": "eyLaPgsowGq2",
        "outputId": "574f724a-2652-4493-d944-f0852ddefb07"
      },
      "execution_count": null,
      "outputs": [
        {
          "output_type": "execute_result",
          "data": {
            "text/plain": [
              "str"
            ]
          },
          "metadata": {},
          "execution_count": 35
        }
      ]
    },
    {
      "cell_type": "code",
      "source": [
        "float(a)"
      ],
      "metadata": {
        "colab": {
          "base_uri": "https://localhost:8080/"
        },
        "id": "axMDW-pkwqrf",
        "outputId": "a5366cf1-1ed3-42f4-bb7b-e17ad75e03be"
      },
      "execution_count": null,
      "outputs": [
        {
          "output_type": "execute_result",
          "data": {
            "text/plain": [
              "2.3"
            ]
          },
          "metadata": {},
          "execution_count": 36
        }
      ]
    },
    {
      "cell_type": "code",
      "source": [
        "b = float(a)\n",
        "type(b) # str to float"
      ],
      "metadata": {
        "colab": {
          "base_uri": "https://localhost:8080/"
        },
        "id": "qn-C8ySWwuKN",
        "outputId": "c48d034b-6706-4eb4-e262-9d9c364191ff"
      },
      "execution_count": null,
      "outputs": [
        {
          "output_type": "execute_result",
          "data": {
            "text/plain": [
              "float"
            ]
          },
          "metadata": {},
          "execution_count": 38
        }
      ]
    },
    {
      "cell_type": "code",
      "source": [
        "a = \"asthha\"\n",
        "b = \"anand wasnik\"\n",
        "a+b #str to str"
      ],
      "metadata": {
        "colab": {
          "base_uri": "https://localhost:8080/",
          "height": 36
        },
        "id": "Rv0M52xCw0l1",
        "outputId": "636efb1c-6759-43a0-cba8-37904a380740"
      },
      "execution_count": null,
      "outputs": [
        {
          "output_type": "execute_result",
          "data": {
            "text/plain": [
              "'asthhaanand wasnik'"
            ],
            "application/vnd.google.colaboratory.intrinsic+json": {
              "type": "string"
            }
          },
          "metadata": {},
          "execution_count": 41
        }
      ]
    },
    {
      "cell_type": "code",
      "source": [
        "bool(\"asthha\") # str to boolean"
      ],
      "metadata": {
        "colab": {
          "base_uri": "https://localhost:8080/"
        },
        "id": "KPOE2yl1yGiJ",
        "outputId": "317ebd27-7919-4597-cdd0-871b3ae4bf23"
      },
      "execution_count": null,
      "outputs": [
        {
          "output_type": "execute_result",
          "data": {
            "text/plain": [
              "True"
            ]
          },
          "metadata": {},
          "execution_count": 42
        }
      ]
    },
    {
      "cell_type": "markdown",
      "source": [
        "10. Write code to demonstrate type casting with list elements\n"
      ],
      "metadata": {
        "id": "8EbdlzT6yWCT"
      }
    },
    {
      "cell_type": "code",
      "source": [
        "my_list = ['5', '10', '15']\n",
        "\n",
        "#typecasting with element\n",
        "my_list[0] = int(my_list[0])\n",
        "print(my_list)"
      ],
      "metadata": {
        "colab": {
          "base_uri": "https://localhost:8080/"
        },
        "id": "IlRcnuR5yiCW",
        "outputId": "bc2e0f1b-5d74-4391-c7a6-b3f11f22de0a"
      },
      "execution_count": null,
      "outputs": [
        {
          "output_type": "stream",
          "name": "stdout",
          "text": [
            "[5, '10', '15']\n"
          ]
        }
      ]
    },
    {
      "cell_type": "code",
      "source": [
        "11. Write a program that checks if a number is positive, negative, or zero\n"
      ],
      "metadata": {
        "id": "gykgtSJ0yAR7"
      },
      "execution_count": null,
      "outputs": []
    },
    {
      "cell_type": "code",
      "source": [
        "# to check if the number is positive, negative or zero\n",
        "number = 0\n",
        "if number > 0:\n",
        "  print(\"the number is positive\")\n",
        "elif number < 0:\n",
        "  print(\"the number is negative \")\n",
        "else:\n",
        "  print(\"the number is zero\")\n"
      ],
      "metadata": {
        "colab": {
          "base_uri": "https://localhost:8080/"
        },
        "id": "BHJPCI0D2WjE",
        "outputId": "8586f30b-faf6-4c65-c7ae-ed6d70ca47a5"
      },
      "execution_count": null,
      "outputs": [
        {
          "output_type": "stream",
          "name": "stdout",
          "text": [
            "the number is zero\n"
          ]
        }
      ]
    },
    {
      "cell_type": "markdown",
      "source": [
        "11. Write a for loop to print numbers from 1 to 10\n"
      ],
      "metadata": {
        "id": "Lwckasj2oXd-"
      }
    },
    {
      "cell_type": "code",
      "source": [
        "number = [1, 2, 3, 4, 5, 6, 7, 8, 9, 10]\n",
        "for num in number:\n",
        "  print(num)"
      ],
      "metadata": {
        "colab": {
          "base_uri": "https://localhost:8080/"
        },
        "id": "-5CsRQXSpCOQ",
        "outputId": "548b33c5-0b82-44ed-e77a-038107c64534"
      },
      "execution_count": null,
      "outputs": [
        {
          "output_type": "stream",
          "name": "stdout",
          "text": [
            "1\n",
            "2\n",
            "3\n",
            "4\n",
            "5\n",
            "6\n",
            "7\n",
            "8\n",
            "9\n",
            "10\n"
          ]
        }
      ]
    },
    {
      "cell_type": "markdown",
      "source": [
        "12. Write a Python program to find the sum of all even numbers between 1 and 50"
      ],
      "metadata": {
        "id": "wk-pZoY_poni"
      }
    },
    {
      "cell_type": "code",
      "source": [
        "sum_even = 0\n",
        "for num in range(1, 50+1):\n",
        "  if num % 2 == 0:\n",
        "    sum_even += num\n",
        "    print(num)"
      ],
      "metadata": {
        "colab": {
          "base_uri": "https://localhost:8080/"
        },
        "id": "JbLnIj0OrYJN",
        "outputId": "774df517-9071-4507-9c56-db930396756d"
      },
      "execution_count": null,
      "outputs": [
        {
          "output_type": "stream",
          "name": "stdout",
          "text": [
            "2\n",
            "4\n",
            "6\n",
            "8\n",
            "10\n",
            "12\n",
            "14\n",
            "16\n",
            "18\n",
            "20\n",
            "22\n",
            "24\n",
            "26\n",
            "28\n",
            "30\n",
            "32\n",
            "34\n",
            "36\n",
            "38\n",
            "40\n",
            "42\n",
            "44\n",
            "46\n",
            "48\n",
            "50\n"
          ]
        }
      ]
    },
    {
      "cell_type": "markdown",
      "source": [
        "13. Write a program to reverse a string using a while loop\n"
      ],
      "metadata": {
        "id": "6Ls8gm9HvNXs"
      }
    },
    {
      "cell_type": "markdown",
      "source": [
        " 14. Write a Python program to calculate the factorial of a number provided by the user using a while loop"
      ],
      "metadata": {
        "id": "U3cLXfPZzDEo"
      }
    },
    {
      "cell_type": "code",
      "source": [
        "str = input(\"ENTER YOUR STRING IS HERE\")\n",
        "print(\"the original string is:\",str)\n",
        "rev_string =\"\"\n",
        "count = len(str)\n",
        "while count > 0:\n",
        "  rev_string += str[count - 1]\n",
        "  count = count -1\n",
        "print(\"the reversed string string using a while loop is:\", rev_string)"
      ],
      "metadata": {
        "colab": {
          "base_uri": "https://localhost:8080/"
        },
        "id": "MP8oGiaQroRx",
        "outputId": "0bee411f-f0f9-4b10-a154-c24b21e97120"
      },
      "execution_count": null,
      "outputs": [
        {
          "output_type": "stream",
          "name": "stdout",
          "text": [
            "ENTER YOUR STRING IS HEREastha\n",
            "the original string is: astha\n",
            "the reversed string string using a while loop is: ahtsa\n"
          ]
        }
      ]
    },
    {
      "cell_type": "code",
      "source": [
        "num = int(input(\"enter the number\"))\n",
        "factorial = 1\n",
        "current = 1\n",
        "while current <= num:\n",
        "  factorial *= current\n",
        "  current += 1\n",
        "  print(f\"the factorial of {num} is {factorial}\")"
      ],
      "metadata": {
        "colab": {
          "base_uri": "https://localhost:8080/"
        },
        "id": "RddJZ-Q34-g5",
        "outputId": "59918359-c41f-4e22-f2a5-851287644c65"
      },
      "execution_count": null,
      "outputs": [
        {
          "output_type": "stream",
          "name": "stdout",
          "text": [
            "enter the number5\n",
            "the factorial of 5 is 1\n",
            "the factorial of 5 is 2\n",
            "the factorial of 5 is 6\n",
            "the factorial of 5 is 24\n",
            "the factorial of 5 is 120\n"
          ]
        }
      ]
    },
    {
      "cell_type": "code",
      "source": [],
      "metadata": {
        "id": "JyLY0M0w9VdX"
      },
      "execution_count": null,
      "outputs": []
    }
  ]
}